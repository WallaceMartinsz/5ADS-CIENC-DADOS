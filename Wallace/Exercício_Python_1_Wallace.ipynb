{
  "nbformat": 4,
  "nbformat_minor": 0,
  "metadata": {
    "colab": {
      "provenance": []
    },
    "kernelspec": {
      "name": "python3",
      "display_name": "Python 3"
    },
    "language_info": {
      "name": "python"
    }
  },
  "cells": [
    {
      "cell_type": "markdown",
      "source": [
        "**Exercício 1 - Aquecimento de Python para Ciência de Dados**"
      ],
      "metadata": {
        "id": "f6oYv9LEcR8T"
      }
    },
    {
      "cell_type": "markdown",
      "source": [
        "1. Imprima \"Hello, World!\" no console."
      ],
      "metadata": {
        "id": "v4GVV_w1cYEY"
      }
    },
    {
      "cell_type": "code",
      "execution_count": null,
      "metadata": {
        "id": "dJ12k9hPcNAg",
        "colab": {
          "base_uri": "https://localhost:8080/"
        },
        "outputId": "0a8b16d1-a055-4314-f3fe-81f593bda150"
      },
      "outputs": [
        {
          "output_type": "stream",
          "name": "stdout",
          "text": [
            "Hello Word!\n"
          ]
        }
      ],
      "source": [
        "print(\"Hello Word!\")"
      ]
    },
    {
      "cell_type": "markdown",
      "source": [
        "2. Crie uma variável x com valor 10 e imprima seu valor."
      ],
      "metadata": {
        "id": "ADK7MX25ciYu"
      }
    },
    {
      "cell_type": "code",
      "source": [
        "x = 10\n",
        "print(x)"
      ],
      "metadata": {
        "id": "kk5h1v7ocqel",
        "colab": {
          "base_uri": "https://localhost:8080/"
        },
        "outputId": "629c84ec-15f8-4511-98bf-5b559e4102ce"
      },
      "execution_count": null,
      "outputs": [
        {
          "output_type": "stream",
          "name": "stdout",
          "text": [
            "10\n"
          ]
        }
      ]
    },
    {
      "cell_type": "markdown",
      "source": [
        "3. Some dois números e exiba o resultado."
      ],
      "metadata": {
        "id": "bKry1Lukcq6l"
      }
    },
    {
      "cell_type": "code",
      "source": [
        "numA = 2\n",
        "numB = 3\n",
        "print(numA + numB)"
      ],
      "metadata": {
        "id": "S6IyQT4Lc2vf",
        "colab": {
          "base_uri": "https://localhost:8080/"
        },
        "outputId": "671d3bfc-955c-4dc4-8e4a-9f260eb2ff5d"
      },
      "execution_count": null,
      "outputs": [
        {
          "output_type": "stream",
          "name": "stdout",
          "text": [
            "5\n"
          ]
        }
      ]
    },
    {
      "cell_type": "markdown",
      "source": [
        "4. Verifique se um número é par ou ímpar.\n"
      ],
      "metadata": {
        "id": "6BG1PN9Qc3VA"
      }
    },
    {
      "cell_type": "code",
      "source": [
        "num = 10\n",
        "if (num % 2 == 0):\n",
        "  print(\"É par\")\n",
        "else:\n",
        "  print(\"É ímpar\")"
      ],
      "metadata": {
        "id": "K6NLPZoRc7ov",
        "colab": {
          "base_uri": "https://localhost:8080/"
        },
        "outputId": "e1fe1852-823c-49e8-93f7-84f46837a0c1"
      },
      "execution_count": null,
      "outputs": [
        {
          "output_type": "stream",
          "name": "stdout",
          "text": [
            "É par\n"
          ]
        }
      ]
    },
    {
      "cell_type": "markdown",
      "source": [
        "5. Crie uma função que receba dois números e retorne a soma deles."
      ],
      "metadata": {
        "id": "5dKg-xpvc4xs"
      }
    },
    {
      "cell_type": "code",
      "source": [
        "def sum(numA, numB):\n",
        "  return f\"A soma é: {(numA+numB)}\";\n",
        "\n",
        "print(sum(2,10))"
      ],
      "metadata": {
        "id": "iv1-9Zytc4S3",
        "colab": {
          "base_uri": "https://localhost:8080/"
        },
        "outputId": "77a351d1-fbbd-44db-89c2-121e0fac8559"
      },
      "execution_count": null,
      "outputs": [
        {
          "output_type": "stream",
          "name": "stdout",
          "text": [
            "A soma é: 12\n"
          ]
        }
      ]
    },
    {
      "cell_type": "markdown",
      "source": [
        "6. Crie uma lista com os números de 1 a 5 e imprima-a.\n"
      ],
      "metadata": {
        "id": "zsdBZtyjc_62"
      }
    },
    {
      "cell_type": "code",
      "source": [
        "numeros = [1, 2, 3, 4, 5]\n",
        "print(numeros)"
      ],
      "metadata": {
        "id": "xGgkwH7jdCh-",
        "colab": {
          "base_uri": "https://localhost:8080/"
        },
        "outputId": "1fb01b8c-d8ad-4bce-c4e8-d04676f1d17e"
      },
      "execution_count": null,
      "outputs": [
        {
          "output_type": "stream",
          "name": "stdout",
          "text": [
            "[1, 2, 3, 4, 5]\n"
          ]
        }
      ]
    },
    {
      "cell_type": "markdown",
      "source": [
        "7. Adicione o número 6 à lista criada na questão anterior.\n"
      ],
      "metadata": {
        "id": "snUAe4qddFsm"
      }
    },
    {
      "cell_type": "code",
      "source": [
        "numeros.append(6)\n",
        "print(numeros)"
      ],
      "metadata": {
        "id": "QVpSgy7FdGk9",
        "colab": {
          "base_uri": "https://localhost:8080/"
        },
        "outputId": "23115390-d37d-40df-bdaa-cc8736d41acc"
      },
      "execution_count": null,
      "outputs": [
        {
          "output_type": "stream",
          "name": "stdout",
          "text": [
            "[1, 2, 3, 4, 5, 6]\n"
          ]
        }
      ]
    },
    {
      "cell_type": "markdown",
      "source": [
        "8. Remova o número 3 da lista."
      ],
      "metadata": {
        "id": "4HT4BfD1dI8f"
      }
    },
    {
      "cell_type": "code",
      "source": [
        "numeros.pop(2)\n",
        "print(numeros)"
      ],
      "metadata": {
        "id": "QCCxAurPdKjB",
        "colab": {
          "base_uri": "https://localhost:8080/"
        },
        "outputId": "5e237262-9f56-42cc-f141-d6089601b24d"
      },
      "execution_count": null,
      "outputs": [
        {
          "output_type": "stream",
          "name": "stdout",
          "text": [
            "[1, 2, 4, 5, 6]\n"
          ]
        }
      ]
    },
    {
      "cell_type": "markdown",
      "source": [
        "9. Acesse o terceiro elemento da lista."
      ],
      "metadata": {
        "id": "RyI_EEltdMZt"
      }
    },
    {
      "cell_type": "code",
      "source": [
        "print(numeros[2])"
      ],
      "metadata": {
        "id": "HIkSUt_EdOSD",
        "colab": {
          "base_uri": "https://localhost:8080/"
        },
        "outputId": "187e8034-37b4-4c6d-9a60-26cccc5dd812"
      },
      "execution_count": null,
      "outputs": [
        {
          "output_type": "stream",
          "name": "stdout",
          "text": [
            "4\n"
          ]
        }
      ]
    },
    {
      "cell_type": "markdown",
      "source": [
        "10. Imprima o tamanho da lista."
      ],
      "metadata": {
        "id": "yQjJYNSsdQUI"
      }
    },
    {
      "cell_type": "code",
      "source": [
        "len(numeros)"
      ],
      "metadata": {
        "id": "Nz1jOedbdTR-",
        "colab": {
          "base_uri": "https://localhost:8080/"
        },
        "outputId": "94080209-2af6-4f7b-ffb0-8e709e46656f"
      },
      "execution_count": null,
      "outputs": [
        {
          "output_type": "execute_result",
          "data": {
            "text/plain": [
              "6"
            ]
          },
          "metadata": {},
          "execution_count": 3
        }
      ]
    },
    {
      "cell_type": "markdown",
      "source": [
        "11. Crie um dicionário com informações de um carro (marca, modelo, ano)."
      ],
      "metadata": {
        "id": "2gm3RaRKdyCg"
      }
    },
    {
      "cell_type": "code",
      "source": [
        "carro = {\n",
        "    \"marca\": \"Hyundai\",\n",
        "    \"modelo\": \"Creta\",\n",
        "    \"ano\": 2020\n",
        "}"
      ],
      "metadata": {
        "id": "gL_Svemid1kG"
      },
      "execution_count": null,
      "outputs": []
    },
    {
      "cell_type": "markdown",
      "source": [
        "12. Acesse o valor associado à chave \"marca\" no dicionário."
      ],
      "metadata": {
        "id": "ng6tNEYtd0hE"
      }
    },
    {
      "cell_type": "code",
      "source": [
        "print(carro[\"marca\"])"
      ],
      "metadata": {
        "id": "VPDbrV6Ad0Pn",
        "colab": {
          "base_uri": "https://localhost:8080/"
        },
        "outputId": "687cb3e2-5cc6-437a-ece1-c714fcff5e33"
      },
      "execution_count": null,
      "outputs": [
        {
          "output_type": "stream",
          "name": "stdout",
          "text": [
            "Hyundai\n"
          ]
        }
      ]
    },
    {
      "cell_type": "markdown",
      "source": [
        "13. Adicione uma nova chave \"cor\" com valor \"preto\" ao dicionário."
      ],
      "metadata": {
        "id": "Ov93hI7Td7c9"
      }
    },
    {
      "cell_type": "code",
      "source": [
        "carro[\"cor\"] = \"Preto\""
      ],
      "metadata": {
        "id": "TrQLLfpid69U"
      },
      "execution_count": null,
      "outputs": []
    },
    {
      "cell_type": "markdown",
      "source": [
        "14. Verifique se a chave \"modelo\" existe no dicionário.\n"
      ],
      "metadata": {
        "id": "b_5cOma2d9LP"
      }
    },
    {
      "cell_type": "code",
      "source": [
        "if \"modelo\" in carro:\n",
        "  print(\"Existe\")\n",
        "else:\n",
        "  print(\"Não existe\")"
      ],
      "metadata": {
        "id": "DUMaXPQYd8bM",
        "colab": {
          "base_uri": "https://localhost:8080/"
        },
        "outputId": "fc5301a8-ae7d-4d9f-9303-60365c873dd1"
      },
      "execution_count": null,
      "outputs": [
        {
          "output_type": "stream",
          "name": "stdout",
          "text": [
            "Existe\n"
          ]
        }
      ]
    },
    {
      "cell_type": "markdown",
      "source": [
        "15. Itere sobre as chaves do dicionário e imprima cada uma delas."
      ],
      "metadata": {
        "id": "Zpqnxu2ReBZH"
      }
    },
    {
      "cell_type": "code",
      "source": [
        "for chave in carro:\n",
        "  print(chave)"
      ],
      "metadata": {
        "id": "4juQCK0veA-g",
        "colab": {
          "base_uri": "https://localhost:8080/"
        },
        "outputId": "34cbb1a5-8f9c-4bd4-92ee-e166a01b90a7"
      },
      "execution_count": null,
      "outputs": [
        {
          "output_type": "stream",
          "name": "stdout",
          "text": [
            "marca\n",
            "modelo\n",
            "ano\n",
            "cor\n"
          ]
        }
      ]
    },
    {
      "cell_type": "markdown",
      "source": [
        "15. Itere sobre as chaves do dicionário e imprima cada uma delas."
      ],
      "metadata": {
        "id": "GAoDb4pneG-j"
      }
    },
    {
      "cell_type": "code",
      "source": [
        "for chave in carro:\n",
        "  print(chave)"
      ],
      "metadata": {
        "id": "aqi8-PtUeGx5",
        "colab": {
          "base_uri": "https://localhost:8080/"
        },
        "outputId": "9ca5f2f3-ac47-4b13-d37a-df3e499eb9cd"
      },
      "execution_count": null,
      "outputs": [
        {
          "output_type": "stream",
          "name": "stdout",
          "text": [
            "marca\n",
            "modelo\n",
            "ano\n",
            "cor\n"
          ]
        }
      ]
    },
    {
      "cell_type": "markdown",
      "source": [
        "17. Crie uma função que receba uma lista e retorne a soma dos elementos."
      ],
      "metadata": {
        "id": "oxI3BVhteGhH"
      }
    },
    {
      "cell_type": "code",
      "source": [
        "def somaElementos(lista):\n",
        "  soma = 0\n",
        "  for elemento in lista:\n",
        "    soma += elemento\n",
        "  return soma\n",
        "\n",
        "lista = [1,2,3,4]\n",
        "somaElementos(lista)"
      ],
      "metadata": {
        "id": "Ijnkd3cJeMM_",
        "colab": {
          "base_uri": "https://localhost:8080/"
        },
        "outputId": "9362e6f1-fef3-4636-97b6-78c173eab853"
      },
      "execution_count": null,
      "outputs": [
        {
          "output_type": "execute_result",
          "data": {
            "text/plain": [
              "10"
            ]
          },
          "metadata": {},
          "execution_count": 38
        }
      ]
    },
    {
      "cell_type": "markdown",
      "source": [
        "18. Crie uma função que receba um dicionário e retorne todas as suas chaves.\n"
      ],
      "metadata": {
        "id": "Abqc7zdfeNl7"
      }
    },
    {
      "cell_type": "code",
      "source": [
        "def imprimirChaves(dicionario):\n",
        "  for chave in dicionario:\n",
        "    print(chave)\n",
        "\n",
        "imprimirChaves(carro)"
      ],
      "metadata": {
        "id": "ZbHQ9bipeQc3",
        "colab": {
          "base_uri": "https://localhost:8080/"
        },
        "outputId": "7e0b6af3-1233-4ce7-ba02-e622a983ca7a"
      },
      "execution_count": null,
      "outputs": [
        {
          "output_type": "stream",
          "name": "stdout",
          "text": [
            "marca\n",
            "modelo\n",
            "ano\n",
            "cor\n"
          ]
        }
      ]
    },
    {
      "cell_type": "markdown",
      "source": [
        "\n",
        "19. Crie uma função que receba um dicionário e imprima chave e valor em linhas separadas."
      ],
      "metadata": {
        "id": "wF_R9JlDeNip"
      }
    },
    {
      "cell_type": "code",
      "source": [
        "def imprimirDicionario(dicionario):\n",
        "    for chave, valor in dicionario.items():\n",
        "        print(f\"Chave: {chave} Valor: {valor}\")\n",
        "\n",
        "imprimirDicionario(carro)"
      ],
      "metadata": {
        "id": "ONvkXUDWeVX3",
        "colab": {
          "base_uri": "https://localhost:8080/"
        },
        "outputId": "0623a20e-d411-45e7-9076-ecaff00d734c"
      },
      "execution_count": null,
      "outputs": [
        {
          "output_type": "stream",
          "name": "stdout",
          "text": [
            "Chave: marca Valor: Hyundai\n",
            "Chave: modelo Valor: HB20\n",
            "Chave: ano Valor: 2020\n",
            "Chave: cor Valor: Preto\n"
          ]
        }
      ]
    },
    {
      "cell_type": "markdown",
      "source": [
        "20. Crie uma classe chamada Pessoa com atributos nome e idade, e um método que imprima esses dados."
      ],
      "metadata": {
        "id": "5ZSYRpJ-eM4s"
      }
    },
    {
      "cell_type": "code",
      "source": [
        "class Pessoa:\n",
        "  def __init__(self, nome, idade):\n",
        "        self.nome = nome\n",
        "        self.idade = idade\n",
        "\n",
        "  def saudacao(self):\n",
        "    print(f\"Olá, {self.nome}, sua idade é {self.idade}\")\n",
        "\n",
        "pessoa1 = Pessoa(\"Wallace\", 20)\n",
        "pessoa1.saudacao()\n"
      ],
      "metadata": {
        "id": "RNqpzQzdeYUG",
        "colab": {
          "base_uri": "https://localhost:8080/"
        },
        "outputId": "81cabc82-3dd7-4d52-9c71-fad846f4447b"
      },
      "execution_count": null,
      "outputs": [
        {
          "output_type": "stream",
          "name": "stdout",
          "text": [
            "Olá, Wallace, sua idade é 20\n"
          ]
        }
      ]
    }
  ]
}