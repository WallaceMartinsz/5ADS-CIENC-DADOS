{
  "nbformat": 4,
  "nbformat_minor": 0,
  "metadata": {
    "colab": {
      "provenance": []
    },
    "kernelspec": {
      "name": "python3",
      "display_name": "Python 3"
    },
    "language_info": {
      "name": "python"
    }
  },
  "cells": [
    {
      "cell_type": "markdown",
      "source": [
        "**Exercício 1 - Aquecimento de Python para Ciência de Dados**"
      ],
      "metadata": {
        "id": "f6oYv9LEcR8T"
      }
    },
    {
      "cell_type": "markdown",
      "source": [
        "1. Imprima \"Hello, World!\" no console."
      ],
      "metadata": {
        "id": "v4GVV_w1cYEY"
      }
    },
    {
      "cell_type": "code",
      "execution_count": 1,
      "metadata": {
        "id": "dJ12k9hPcNAg",
        "colab": {
          "base_uri": "https://localhost:8080/"
        },
        "outputId": "2aa3e719-b7f3-4e3d-cc87-3a9fffb126eb"
      },
      "outputs": [
        {
          "output_type": "stream",
          "name": "stdout",
          "text": [
            "Hello, World!!\n"
          ]
        }
      ],
      "source": [
        "print(\"Hello, World!!\")"
      ]
    },
    {
      "cell_type": "markdown",
      "source": [
        "2. Crie uma variável x com valor 10 e imprima seu valor."
      ],
      "metadata": {
        "id": "ADK7MX25ciYu"
      }
    },
    {
      "cell_type": "code",
      "source": [
        "x = 10\n",
        "\n",
        "print(x)"
      ],
      "metadata": {
        "id": "kk5h1v7ocqel",
        "colab": {
          "base_uri": "https://localhost:8080/"
        },
        "outputId": "dfdb158e-1f7f-4f89-cb8e-449c5e463b47"
      },
      "execution_count": 2,
      "outputs": [
        {
          "output_type": "stream",
          "name": "stdout",
          "text": [
            "10\n"
          ]
        }
      ]
    },
    {
      "cell_type": "markdown",
      "source": [
        "3. Some dois números e exiba o resultado."
      ],
      "metadata": {
        "id": "bKry1Lukcq6l"
      }
    },
    {
      "cell_type": "code",
      "source": [
        "a = float(input(\"Insira um valor: \"))\n",
        "b = float(input(\"Insira outro valor: \"))\n",
        "\n",
        "soma = a + b\n",
        "\n",
        "print(f\"A soma entre {a} e {b} é {soma}\")"
      ],
      "metadata": {
        "id": "S6IyQT4Lc2vf",
        "colab": {
          "base_uri": "https://localhost:8080/"
        },
        "outputId": "c2c7fef2-0b46-4438-938c-5f1f999d0485"
      },
      "execution_count": 4,
      "outputs": [
        {
          "output_type": "stream",
          "name": "stdout",
          "text": [
            "Insira um valor: 9\n",
            "Insira outro valor: 8\n",
            "A soma entre 9.0 e 8.0 é 17.0\n"
          ]
        }
      ]
    },
    {
      "cell_type": "markdown",
      "source": [
        "4. Verifique se um número é par ou ímpar.\n"
      ],
      "metadata": {
        "id": "6BG1PN9Qc3VA"
      }
    },
    {
      "cell_type": "code",
      "source": [
        "\n",
        "numero = int(input(\"Digite um número: \"))\n",
        "\n",
        "\n",
        "if numero % 2 == 0:\n",
        "    print(f\"{numero} é par.\")\n",
        "else:\n",
        "    print(f\"{numero} é ímpar.\")"
      ],
      "metadata": {
        "id": "K6NLPZoRc7ov",
        "colab": {
          "base_uri": "https://localhost:8080/"
        },
        "outputId": "5614850c-cb0f-4466-a89e-397e8319a5ed"
      },
      "execution_count": 3,
      "outputs": [
        {
          "output_type": "stream",
          "name": "stdout",
          "text": [
            "Digite um número: 6\n",
            "6 é par.\n"
          ]
        }
      ]
    },
    {
      "cell_type": "markdown",
      "source": [
        "5. Crie uma função que receba dois números e retorne a soma deles."
      ],
      "metadata": {
        "id": "5dKg-xpvc4xs"
      }
    },
    {
      "cell_type": "code",
      "source": [
        "def soma(a, b):\n",
        "    return a + b\n",
        "\n",
        "a = float(input(\"Insira um valor: \"))\n",
        "b = float(input(\"Insira outro valor: \"))\n",
        "\n",
        "resultado = soma(a, b)\n",
        "\n",
        "print(f\"A soma entre {a} e {b} é {resultado:.1f}\")"
      ],
      "metadata": {
        "id": "iv1-9Zytc4S3",
        "colab": {
          "base_uri": "https://localhost:8080/"
        },
        "outputId": "843ade3f-f412-4d10-ef9f-40b4c344826a"
      },
      "execution_count": 5,
      "outputs": [
        {
          "output_type": "stream",
          "name": "stdout",
          "text": [
            "Insira um valor: 50\n",
            "Insira outro valor: 43\n",
            "A soma entre 50.0 e 43.0 é 93.0\n"
          ]
        }
      ]
    },
    {
      "cell_type": "markdown",
      "source": [
        "6. Crie uma lista com os números de 1 a 5 e imprima-a.\n"
      ],
      "metadata": {
        "id": "zsdBZtyjc_62"
      }
    },
    {
      "cell_type": "code",
      "source": [
        "numeros = [1, 2, 3, 4, 5]\n",
        "\n",
        "\n",
        "print(f\"Essa lista contém os números {numeros}\")"
      ],
      "metadata": {
        "id": "xGgkwH7jdCh-"
      },
      "execution_count": null,
      "outputs": []
    },
    {
      "cell_type": "markdown",
      "source": [
        "7. Adicione o número 6 à lista criada na questão anterior.\n"
      ],
      "metadata": {
        "id": "snUAe4qddFsm"
      }
    },
    {
      "cell_type": "code",
      "source": [
        "\n",
        "numeros = [1, 2, 3, 4, 5]\n",
        "\n",
        "numeros.append(6)\n",
        "\n",
        "print(numeros)"
      ],
      "metadata": {
        "id": "QVpSgy7FdGk9"
      },
      "execution_count": null,
      "outputs": []
    },
    {
      "cell_type": "markdown",
      "source": [
        "8. Remova o número 3 da lista."
      ],
      "metadata": {
        "id": "4HT4BfD1dI8f"
      }
    },
    {
      "cell_type": "code",
      "source": [
        "numeros = [1, 2, 3, 4, 5]\n",
        "\n",
        "numeros.append(6)\n",
        "\n",
        "print(numeros)\n",
        "\n",
        "numeros.remove(3)\n",
        "\n",
        "print(numeros)"
      ],
      "metadata": {
        "id": "QCCxAurPdKjB"
      },
      "execution_count": null,
      "outputs": []
    },
    {
      "cell_type": "markdown",
      "source": [
        "9. Acesse o terceiro elemento da lista."
      ],
      "metadata": {
        "id": "RyI_EEltdMZt"
      }
    },
    {
      "cell_type": "code",
      "source": [
        "numeros = [1, 2, 3, 4, 5]\n",
        "\n",
        "numeros += [6]\n",
        "\n",
        "print(numeros)\n",
        "\n",
        "numeros.remove(3)\n",
        "\n",
        "print(numeros)\n",
        "\n"
      ],
      "metadata": {
        "id": "HIkSUt_EdOSD"
      },
      "execution_count": null,
      "outputs": []
    },
    {
      "cell_type": "markdown",
      "source": [
        "10. Imprima o tamanho da lista."
      ],
      "metadata": {
        "id": "yQjJYNSsdQUI"
      }
    },
    {
      "cell_type": "code",
      "source": [
        "numeros = [1, 2, 3, 4, 5]\n",
        "\n",
        "numeros += [6]\n",
        "\n",
        "print(numeros)\n",
        "\n",
        "numeros.remove(3)\n",
        "\n",
        "print(numeros)\n",
        "\n",
        "\n",
        "tamanho = len(numeros)\n",
        "print(f\"O tamanho da lista é: {tamanho}\")"
      ],
      "metadata": {
        "id": "Nz1jOedbdTR-"
      },
      "execution_count": null,
      "outputs": []
    },
    {
      "cell_type": "markdown",
      "source": [
        "11. Crie um dicionário com informações de um carro (marca, modelo, ano)."
      ],
      "metadata": {
        "id": "2gm3RaRKdyCg"
      }
    },
    {
      "cell_type": "code",
      "source": [
        "\n",
        "carro = {\n",
        "    \"marca\": \"Hyundai\",\n",
        "    \"modelo\": \"HB20\",\n",
        "    \"ano\": 2024\n",
        "}\n",
        "\n",
        "\n",
        "print(carro)"
      ],
      "metadata": {
        "id": "gL_Svemid1kG"
      },
      "execution_count": null,
      "outputs": []
    },
    {
      "cell_type": "markdown",
      "source": [
        "12. Acesse o valor associado à chave \"marca\" no dicionário."
      ],
      "metadata": {
        "id": "ng6tNEYtd0hE"
      }
    },
    {
      "cell_type": "code",
      "source": [
        "carro = {\n",
        "    \"marca\": \"Hyundai\",\n",
        "    \"modelo\": \"HB20\",\n",
        "    \"ano\": 2024\n",
        "}\n",
        "\n",
        "print(carro[\"marca\"])"
      ],
      "metadata": {
        "id": "VPDbrV6Ad0Pn",
        "colab": {
          "base_uri": "https://localhost:8080/"
        },
        "outputId": "31827a11-d536-4e0e-ac88-13bfdf9905a3"
      },
      "execution_count": 6,
      "outputs": [
        {
          "output_type": "stream",
          "name": "stdout",
          "text": [
            "Hyundai\n"
          ]
        }
      ]
    },
    {
      "cell_type": "markdown",
      "source": [
        "13. Adicione uma nova chave \"cor\" com valor \"preto\" ao dicionário."
      ],
      "metadata": {
        "id": "Ov93hI7Td7c9"
      }
    },
    {
      "cell_type": "code",
      "source": [
        "carro = {\n",
        "    \"marca\": \"Hyundai\",\n",
        "    \"modelo\": \"HB20\",\n",
        "    \"ano\": 2024\n",
        "}\n",
        "\n",
        "print(carro)\n",
        "\n",
        "\n",
        "carro[\"cor\"] = \"preto\"\n",
        "\n",
        "print(carro)"
      ],
      "metadata": {
        "id": "TrQLLfpid69U",
        "colab": {
          "base_uri": "https://localhost:8080/"
        },
        "outputId": "47aec417-6a18-4acc-8d3e-e03503755c11"
      },
      "execution_count": 7,
      "outputs": [
        {
          "output_type": "stream",
          "name": "stdout",
          "text": [
            "{'marca': 'Hyundai', 'modelo': 'HB20', 'ano': 2024}\n",
            "{'marca': 'Hyundai', 'modelo': 'HB20', 'ano': 2024, 'cor': 'preto'}\n"
          ]
        }
      ]
    },
    {
      "cell_type": "markdown",
      "source": [
        "14. Verifique se a chave \"modelo\" existe no dicionário.\n"
      ],
      "metadata": {
        "id": "b_5cOma2d9LP"
      }
    },
    {
      "cell_type": "code",
      "source": [
        "carro = {\n",
        "    \"marca\": \"Hyundai\",\n",
        "    \"modelo\": \"HB20\",\n",
        "    \"ano\": 2024\n",
        "}\n",
        "\n",
        "print(carro)\n",
        "\n",
        "\n",
        "carro[\"cor\"] = \"preto\"\n",
        "\n",
        "if \"modelo\" in carro:\n",
        "    print(f\"A chave 'modelo' existe no dicionário\")\n",
        "else:\n",
        "    print(\"A chave não existe no dicionário\")"
      ],
      "metadata": {
        "id": "DUMaXPQYd8bM"
      },
      "execution_count": null,
      "outputs": []
    },
    {
      "cell_type": "markdown",
      "source": [
        "15. Itere sobre as chaves do dicionário e imprima cada uma delas."
      ],
      "metadata": {
        "id": "Zpqnxu2ReBZH"
      }
    },
    {
      "cell_type": "code",
      "source": [
        "carro = {\n",
        "    \"marca\": \"Hyundai\",\n",
        "    \"modelo\": \"HB20\",\n",
        "    \"ano\": 2024\n",
        "}\n",
        "\n",
        "\n",
        "for chave in carro:\n",
        "    print(chave)"
      ],
      "metadata": {
        "id": "4juQCK0veA-g"
      },
      "execution_count": null,
      "outputs": []
    },
    {
      "cell_type": "markdown",
      "source": [
        "15. Itere sobre as chaves do dicionário e imprima cada uma delas."
      ],
      "metadata": {
        "id": "GAoDb4pneG-j"
      }
    },
    {
      "cell_type": "code",
      "source": [
        "carro = {\n",
        "    \"marca\": \"Hyundai\",\n",
        "    \"modelo\": \"HB20\",\n",
        "    \"ano\": 2024\n",
        "}\n",
        "\n",
        "\n",
        "for chave in carro:\n",
        "    print(chave)"
      ],
      "metadata": {
        "id": "aqi8-PtUeGx5"
      },
      "execution_count": null,
      "outputs": []
    },
    {
      "cell_type": "markdown",
      "source": [
        "17. Crie uma função que receba uma lista e retorne a soma dos elementos."
      ],
      "metadata": {
        "id": "oxI3BVhteGhH"
      }
    },
    {
      "cell_type": "code",
      "source": [
        "def soma_lista(lista):\n",
        "    return sum(lista)\n",
        "\n",
        "\n",
        "numeros = [1, 2, 3, 4, 5]\n",
        "resultado = soma_lista(numeros)\n",
        "print(f\"A soma dos elementos da lista é: {resultado}\")"
      ],
      "metadata": {
        "id": "Ijnkd3cJeMM_"
      },
      "execution_count": null,
      "outputs": []
    },
    {
      "cell_type": "markdown",
      "source": [
        "18. Crie uma função que receba um dicionário e retorne todas as suas chaves.\n"
      ],
      "metadata": {
        "id": "Abqc7zdfeNl7"
      }
    },
    {
      "cell_type": "code",
      "source": [
        "def obter_chaves(dicionario):\n",
        "    return list(dicionario.keys())\n",
        "\n",
        "\n",
        "carro = {\n",
        "    \"marca\": \"Hyundai\",\n",
        "    \"modelo\": \"HB20\",\n",
        "    \"ano\": 2024,\n",
        "    \"cor\": \"preto\"\n",
        "}\n",
        "\n",
        "chaves = obter_chaves(carro)\n",
        "print(f\"As chaves do dicionário são: {chaves}\")"
      ],
      "metadata": {
        "id": "ZbHQ9bipeQc3"
      },
      "execution_count": null,
      "outputs": []
    },
    {
      "cell_type": "markdown",
      "source": [
        "\n",
        "19. Crie uma função que receba um dicionário e imprima chave e valor em linhas separadas."
      ],
      "metadata": {
        "id": "wF_R9JlDeNip"
      }
    },
    {
      "cell_type": "code",
      "source": [
        "def imprimir_chaves_valores(dicionario):\n",
        "    for chave, valor in dicionario.items():\n",
        "        print(f\"Chave: {chave}, Valor: {valor}\")\n",
        "\n",
        "\n",
        "carro = {\n",
        "    \"marca\": \"Hyundai\",\n",
        "    \"modelo\": \"HB20\",\n",
        "    \"ano\": 2024,\n",
        "    \"cor\": \"preto\"\n",
        "}\n",
        "\n",
        "imprimir_chaves_valores(carro)"
      ],
      "metadata": {
        "id": "ONvkXUDWeVX3",
        "colab": {
          "base_uri": "https://localhost:8080/"
        },
        "outputId": "75739379-fc68-4994-c99a-04dbd52787e3"
      },
      "execution_count": 9,
      "outputs": [
        {
          "output_type": "stream",
          "name": "stdout",
          "text": [
            "Chave: marca, Valor: Hyundai\n",
            "Chave: modelo, Valor: HB20\n",
            "Chave: ano, Valor: 2024\n",
            "Chave: cor, Valor: preto\n"
          ]
        }
      ]
    },
    {
      "cell_type": "markdown",
      "source": [
        "20. Crie uma classe chamada Pessoa com atributos nome e idade, e um método que imprima esses dados."
      ],
      "metadata": {
        "id": "5ZSYRpJ-eM4s"
      }
    },
    {
      "cell_type": "code",
      "source": [
        "class Pessoa:\n",
        "    def __init__(self, nome, idade):\n",
        "        self.nome = nome\n",
        "        self.idade = idade\n",
        "\n",
        "    def imprimir_dados(self):\n",
        "        print(f\"Nome: {self.nome}, Idade: {self.idade}\")\n",
        "\n",
        "\n",
        "pessoa1 = Pessoa(\"Gabriel\", 21)\n",
        "pessoa1.imprimir_dados()"
      ],
      "metadata": {
        "id": "RNqpzQzdeYUG",
        "colab": {
          "base_uri": "https://localhost:8080/"
        },
        "outputId": "ac00a177-4d06-4bbb-a181-a82afa19ca3e"
      },
      "execution_count": 10,
      "outputs": [
        {
          "output_type": "stream",
          "name": "stdout",
          "text": [
            "Nome: Gabriel, Idade: 21\n"
          ]
        }
      ]
    }
  ]
}